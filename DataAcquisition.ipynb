{
 "cells": [
  {
   "cell_type": "code",
   "execution_count": 1,
   "metadata": {},
   "outputs": [],
   "source": [
    "import json, time, urllib.parse\n",
    "import requests\n",
    "import pandas as pd\n",
    "import concurrent.futures\n",
    "from collections import defaultdict"
   ]
  },
  {
   "cell_type": "markdown",
   "metadata": {},
   "source": [
    "# Step 1 : Data Acquisition"
   ]
  },
  {
   "cell_type": "markdown",
   "metadata": {},
   "source": [
    "#### Define API and Headers"
   ]
  },
  {
   "cell_type": "code",
   "execution_count": 2,
   "metadata": {},
   "outputs": [],
   "source": [
    "API = 'https://wikimedia.org/api/rest_v1/metrics/pageviews/per-article/en.wikipedia.org/{access_type}/user/{article}/monthly/20150701/20230930'\n",
    "\n",
    "HEADERS = {\n",
    "    'User-Agent': 'sbutala@uw.edu, University of Washington, MSDS DATA 512 - AUTUMN 2023',\n",
    "}"
   ]
  },
  {
   "cell_type": "markdown",
   "metadata": {},
   "source": [
    "#### Parse the subset of articles which need to be processed"
   ]
  },
  {
   "cell_type": "code",
   "execution_count": 3,
   "metadata": {},
   "outputs": [],
   "source": [
    "csv_file_path = './thank_the_academy.AUG.2023.csv - thank_the_academy.AUG.2023b.csv'\n",
    "df = pd.read_csv(csv_file_path, usecols=[0], header=None).values.tolist()[1:]\n",
    "articles = [article[0].replace(' ','_') for article in df]\n",
    "articles.sort(reverse=True)"
   ]
  },
  {
   "cell_type": "markdown",
   "metadata": {},
   "source": [
    "#### Breaking down the logic into small reusable function\n",
    "- ```wiki_request``` : Helps in sending the actual request to the Wikipedia API and return the json response\n",
    "- ```get_json``` : Calls wiki_request iteratively for all the articles\n",
    "- ```store_json``` : Helper function to store the json object to a file\n",
    "- ```generate_json``` : Takes a list of access types and return the combned data\n"
   ]
  },
  {
   "cell_type": "code",
   "execution_count": 11,
   "metadata": {},
   "outputs": [],
   "source": [
    "def wiki_request(access, article):\n",
    "    \"\"\"\n",
    "    Make a Wikipedia API request for a specific article and access type.\n",
    "\n",
    "    Parameters:\n",
    "    access (str): The type of access (e.g., \"desktop\", \"mobile\").\n",
    "    article (str): The article title.\n",
    "\n",
    "    Returns:\n",
    "    dict: JSON response from the API.\n",
    "    \"\"\"\n",
    "    article_encoded = urllib.parse.quote(article, safe='')\n",
    "    template = {\n",
    "        'access_type':access,\n",
    "        'article':article_encoded\n",
    "    }\n",
    "    request_url = API.format(**template)\n",
    "    response = requests.get(request_url, headers=HEADERS)\n",
    "    return response.json()\n",
    "\n",
    "def get_json(access):\n",
    "    \"\"\"\n",
    "    Retrieve JSON data for a list of articles and a specific access type.\n",
    "\n",
    "    Parameters:\n",
    "    access (str): The type of access (e.g., \"desktop\", \"mobile\").\n",
    "    articles (list): List of article titles.\n",
    "\n",
    "    Returns:\n",
    "    list: List of JSON responses for the given articles and access type.\n",
    "    \"\"\"\n",
    "    json_res = []\n",
    "    counter = 0\n",
    "    for article in articles:\n",
    "        if counter % 100 == 0:\n",
    "            time.sleep(2)\n",
    "        try:\n",
    "            res = wiki_request(access=access, article=article)\n",
    "            json_res.extend(res['items'])\n",
    "        except Exception as e:\n",
    "            print(\"Failed \", e)\n",
    "        counter+=1\n",
    "    return json_res\n",
    "\n",
    "\n",
    "def store_json(view_json, file_name):\n",
    "    \"\"\"\n",
    "    Store JSON data in a file.\n",
    "\n",
    "    Parameters:\n",
    "    view_json (list): List of JSON data to be stored.\n",
    "    file_name (str): Name of the output JSON file.\n",
    "    \"\"\"\n",
    "    json_string = json.dumps(view_json, indent=4)\n",
    "    output_file_path = file_name\n",
    "    with open(output_file_path, 'w') as output_file:\n",
    "        output_file.write(json_string)\n",
    "\n",
    "\n",
    "def generate_json(access, file_name):\n",
    "    \"\"\"\n",
    "    Generate JSON data for multiple access types and store it in a file.\n",
    "\n",
    "    Parameters:\n",
    "    access (list): List of access types (e.g., [\"desktop\", \"mobile\"]).\n",
    "    file_name (str): Name of the output JSON file.\n",
    "\n",
    "    Returns:\n",
    "    list: List of JSON responses for the given access types.\n",
    "    \"\"\"\n",
    "    view_json = []\n",
    "    with concurrent.futures.ThreadPoolExecutor() as executor:\n",
    "        # Submit tasks for each access type\n",
    "        future_to_articles = {executor.submit(get_json, access_type): access_type for access_type in access}\n",
    "\n",
    "        for future in concurrent.futures.as_completed(future_to_articles):\n",
    "            access_type = future_to_articles[future]\n",
    "            try:\n",
    "                data = future.result()\n",
    "                view_json.extend(data)\n",
    "            except Exception as exc:\n",
    "                print(f\"Failed to retrieve data for {access_type}: {exc}\")\n",
    "\n",
    "    store_json(view_json, file_name)\n",
    "    return view_json"
   ]
  },
  {
   "cell_type": "markdown",
   "metadata": {},
   "source": [
    "Desktop view counts"
   ]
  },
  {
   "cell_type": "code",
   "execution_count": null,
   "metadata": {},
   "outputs": [],
   "source": [
    "desktop = generate_json(['desktop'],'academy_monthly_desktop_201507-202309.json')"
   ]
  },
  {
   "cell_type": "markdown",
   "metadata": {},
   "source": [
    "Mobile (app and web) view counts combined"
   ]
  },
  {
   "cell_type": "code",
   "execution_count": null,
   "metadata": {},
   "outputs": [],
   "source": [
    "mobile = generate_json(['mobile-app','mobile-web'],'academy_monthly_cumulative_201507-202309.json')"
   ]
  },
  {
   "cell_type": "markdown",
   "metadata": {},
   "source": [
    "Combine desktop and mobile results to get cumulative results"
   ]
  },
  {
   "cell_type": "code",
   "execution_count": null,
   "metadata": {},
   "outputs": [],
   "source": [
    "desktop.extend(mobile)"
   ]
  },
  {
   "cell_type": "markdown",
   "metadata": {},
   "source": [
    "### Pre-Processing"
   ]
  },
  {
   "cell_type": "markdown",
   "metadata": {},
   "source": [
    "Restructuring for to make further analysis easier"
   ]
  },
  {
   "cell_type": "code",
   "execution_count": null,
   "metadata": {},
   "outputs": [],
   "source": [
    "mobile_combined_views = defaultdict(int)\n",
    "combined_views = defaultdict(int)\n",
    "for obj in desktop:\n",
    "    article = obj[\"article\"]\n",
    "    timestamp = obj[\"timestamp\"]\n",
    "    views = obj[\"views\"]\n",
    "    if obj[\"access\"] != 'desktop':\n",
    "      mobile_combined_views[(article, timestamp)] += views\n",
    "\n",
    "    combined_views[(article, timestamp)] += views\n",
    "\n",
    "combined_json_objects = []\n",
    "for (article, timestamp), views in combined_views.items():\n",
    "    combined_obj = {\n",
    "        \"project\": \"en.wikipedia\",\n",
    "        \"article\": article,\n",
    "        \"granularity\": \"monthly\",\n",
    "        \"timestamp\": timestamp,\n",
    "        \"access\": \"combined\",\n",
    "        \"agent\": \"user\",\n",
    "        \"views\": views\n",
    "    }\n",
    "    combined_json_objects.append(combined_obj)\n",
    "\n",
    "store_json(combined_json_objects,file_name='academy_monthly_cumulative_201507-202309.json')\n",
    "\n",
    "mobile_combined_json_objects = []\n",
    "for (article, timestamp), views in mobile_combined_views.items():\n",
    "    combined_obj = {\n",
    "        \"project\": \"en.wikipedia\",\n",
    "        \"article\": article,\n",
    "        \"granularity\": \"monthly\",\n",
    "        \"timestamp\": timestamp,\n",
    "        \"access\": \"combined\",\n",
    "        \"agent\": \"user\",\n",
    "        \"views\": views\n",
    "    }\n",
    "    mobile_combined_json_objects.append(combined_obj)\n",
    "\n",
    "store_json(mobile_combined_json_objects,file_name='academy_monthly_mobile_201507-202309.json')"
   ]
  }
 ],
 "metadata": {
  "kernelspec": {
   "display_name": "DATA512",
   "language": "python",
   "name": "python3"
  },
  "language_info": {
   "codemirror_mode": {
    "name": "ipython",
    "version": 3
   },
   "file_extension": ".py",
   "mimetype": "text/x-python",
   "name": "python",
   "nbconvert_exporter": "python",
   "pygments_lexer": "ipython3",
   "version": "3.10.13"
  },
  "orig_nbformat": 4
 },
 "nbformat": 4,
 "nbformat_minor": 2
}
